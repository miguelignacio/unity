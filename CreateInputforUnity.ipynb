{
 "cells": [
  {
   "cell_type": "code",
   "execution_count": 1,
   "metadata": {},
   "outputs": [],
   "source": [
    "import uproot as ur\n",
    "import matplotlib.pyplot as plt\n",
    "import k3d\n",
    "import numpy as np\n",
    "import awkward as ak"
   ]
  },
  {
   "cell_type": "code",
   "execution_count": 2,
   "metadata": {},
   "outputs": [],
   "source": [
    "path = '/home/miguel/eic/reconstruction_benchmarks'\n",
    "events= ur.open('%s/sim_test2.root:events'%(path))\n",
    "eventPath = '/home/miguel/unity/Events.txt'"
   ]
  },
  {
   "cell_type": "code",
   "execution_count": 3,
   "metadata": {},
   "outputs": [],
   "source": [
    "with open(eventPath, 'a') as f:\n",
    "    f.write(\"\")"
   ]
  },
  {
   "cell_type": "code",
   "execution_count": 5,
   "metadata": {},
   "outputs": [],
   "source": [
    "\n",
    "def get_vector(varname='EcalBarrelScFiHits',energy='energy'):\n",
    "    E = events[\"%s.truth.deposit\"%(varname)].array(library='np')\n",
    "    \n",
    "#    if('ScFi' in varname or 'RICH' in varname or 'DIRC' in varname or 'Tracker' in varname or 'Vertex' in varname):\n",
    "    if('ScFi' in varname):\n",
    "        x = events[\"%s.truth.x\"%varname].array(library='np')\n",
    "        y = events[\"%s.truth.y\"%varname].array(library='np')\n",
    "        z = events[\"%s.truth.z\"%varname].array(library='np')\n",
    "    else:\n",
    "        x = events[\"%s.position.x\"%varname].array(library='np')\n",
    "        y = events[\"%s.position.y\"%varname].array(library='np')\n",
    "        z = events[\"%s.position.z\"%varname].array(library='np')\n",
    "\n",
    "    t = events[\"%s.truth.time\"%varname].array(library='np')\n",
    "    pdgID = events[\"%s.truth.pdgID\"%varname].array(library='np')\n",
    "    #theta = events[\"%s.polar.theta\"%varname].array(library='np')\n",
    "    #phi = events[\"%s.polar.phi\"%varname].array(library='np')\n",
    "\n",
    "    return E,x, y, z, t,pdgID"
   ]
  },
  {
   "cell_type": "code",
   "execution_count": 6,
   "metadata": {},
   "outputs": [],
   "source": [
    "E = {}\n",
    "x = {}\n",
    "y = {}\n",
    "z  = {}\n",
    "t = {}\n",
    "pdgID={}\n"
   ]
  },
  {
   "cell_type": "code",
   "execution_count": 27,
   "metadata": {},
   "outputs": [],
   "source": [
    "containers = ['DIRCBarHits',\n",
    "              'VertexBarrelHits',\n",
    "              #'TrackerBarrelHits',\n",
    "              #'MPGDTrackerBarrelHits', \n",
    "              #'TrackerEndcapHits',\n",
    "              # 'GEMTrackerEndcapHits',\n",
    "             #'EcalEndcapNHits',\n",
    "            #'EcalBarrelHits',\n",
    "                # 'EcalBarrelScFiHits',\n",
    "                #  'EcalEndcapPHits',\n",
    "             #'HcalBarrelHits',\n",
    "             #'HcalEndcapPHits',\n",
    "             # 'HcalEndcapNHits'\n",
    "              'ERICHHits',\n",
    "            'DRICHHits'\n",
    "              ]"
   ]
  },
  {
   "cell_type": "code",
   "execution_count": 28,
   "metadata": {},
   "outputs": [
    {
     "name": "stdout",
     "output_type": "stream",
     "text": [
      "11  11   11   11   11   11\n",
      "11  11   11   11   11   11\n"
     ]
    }
   ],
   "source": [
    "for i in containers:#,'TrackerBarrel','VertexBarrel']:\n",
    "    E[i], x[i], y[i],z[i],t[i],pdgID[i] = get_vector(\"%s\"%i)\n",
    "    print(len(E[i]), '' , len(x[i]), ' ', len(y[i]), ' ', len(z[i]), ' ', len(t[i]), ' ' , len(pdgID[i]))\n",
    "\n",
    "    \n",
    "    \n",
    "\n",
    "#print(len(E['EcalBarrelScFiHits']))\n",
    "#print(len(x['EcalBarrelScFiHits']))\n",
    "#print(len(y['EcalBarrelScFiHits']))\n",
    "#print(len(z['EcalBarrelScFiHits']))\n",
    "#print(len(t['EcalBarrelScFiHits']))"
   ]
  },
  {
   "cell_type": "code",
   "execution_count": 30,
   "metadata": {},
   "outputs": [
    {
     "name": "stdout",
     "output_type": "stream",
     "text": [
      "nevents= 3\n",
      "0\n",
      "DRICHHits\n",
      "1\n",
      "ERICHHits\n",
      "DRICHHits\n",
      "2\n",
      "ERICHHits\n",
      "DRICHHits\n"
     ]
    }
   ],
   "source": [
    "nevents = 3\n",
    "print('nevents= %i'%nevents)\n",
    "with open(eventPath, 'w') as f:\n",
    "    for ievt in range(nevents):\n",
    "        print(ievt)\n",
    "        iterate = 0\n",
    "        #f.write('\\n')\n",
    "        f.write(\"Event%i ##########(x,y,z,E,t,pdgID) ####################################\\n\"%ievt)        \n",
    "        for key in containers:\n",
    "            xcoord = x[key][ievt]\n",
    "            ycoord = y[key][ievt]\n",
    "            zcoord = z[key][ievt]\n",
    "            ecoord = E[key][ievt]\n",
    "            tcoord = t[key][ievt]\n",
    "            pdgcoord = pdgID[key][ievt]\n",
    "            if len(ecoord) > 1:\n",
    "                print(key)\n",
    "                f.write(str(key)+'-----------------------------------------------------------------\\n')\n",
    "                for (k, l, m, n, o,p) in zip(xcoord, ycoord, zcoord, ecoord, tcoord,pdgcoord):\n",
    "                    #f.write(\"%2.3f %2.3f %2.3f %2.3f str(o)+\" \"+str(k)+\" \"+str(l)+\" \"+str(m)+\" \"+str(n))\n",
    "                    f.write(\"%6.1f %6.1f %6.1f %6.1f %6.2f %6.0i\"%(k,l,m,1e6*n,o,p))\n",
    "                    f.write('\\n')\n",
    "                    #print(str(o)+\" \"+str(k)+\" \"+str(l)+\" \"+str(m)+\" \"+str(n))\n",
    "\n"
   ]
  },
  {
   "cell_type": "code",
   "execution_count": null,
   "metadata": {},
   "outputs": [],
   "source": []
  }
 ],
 "metadata": {
  "kernelspec": {
   "display_name": "Python 3",
   "language": "python",
   "name": "python3"
  },
  "language_info": {
   "codemirror_mode": {
    "name": "ipython",
    "version": 3
   },
   "file_extension": ".py",
   "mimetype": "text/x-python",
   "name": "python",
   "nbconvert_exporter": "python",
   "pygments_lexer": "ipython3",
   "version": "3.8.10"
  }
 },
 "nbformat": 4,
 "nbformat_minor": 4
}
