{
 "cells": [
  {
   "cell_type": "code",
   "execution_count": 1,
   "metadata": {},
   "outputs": [],
   "source": [
    "import uproot as ur\n",
    "import matplotlib.pyplot as plt\n",
    "import k3d\n",
    "import numpy as np\n",
    "import awkward as ak"
   ]
  },
  {
   "cell_type": "code",
   "execution_count": 3,
   "metadata": {},
   "outputs": [
    {
     "name": "stdout",
     "output_type": "stream",
     "text": [
      "['MCParticles', 'MCParticles/MCParticles.PDG', 'MCParticles/MCParticles.generatorStatus', 'MCParticles/MCParticles.simulatorStatus', 'MCParticles/MCParticles.charge', 'MCParticles/MCParticles.time', 'MCParticles/MCParticles.mass', 'MCParticles/MCParticles.vertex.x', 'MCParticles/MCParticles.vertex.y', 'MCParticles/MCParticles.vertex.z', 'MCParticles/MCParticles.endpoint.x', 'MCParticles/MCParticles.endpoint.y', 'MCParticles/MCParticles.endpoint.z', 'MCParticles/MCParticles.momentum.x', 'MCParticles/MCParticles.momentum.y', 'MCParticles/MCParticles.momentum.z', 'MCParticles/MCParticles.momentumAtEndpoint.x', 'MCParticles/MCParticles.momentumAtEndpoint.y', 'MCParticles/MCParticles.momentumAtEndpoint.z', 'MCParticles/MCParticles.spin.x', 'MCParticles/MCParticles.spin.y', 'MCParticles/MCParticles.spin.z', 'MCParticles/MCParticles.colorFlow.a', 'MCParticles/MCParticles.colorFlow.b', 'MCParticles/MCParticles.parents_begin', 'MCParticles/MCParticles.parents_end', 'MCParticles/MCParticles.daughters_begin', 'MCParticles/MCParticles.daughters_end', 'MCParticles#0', 'MCParticles#0/MCParticles#0.index', 'MCParticles#0/MCParticles#0.collectionID', 'MCParticles#1', 'MCParticles#1/MCParticles#1.index', 'MCParticles#1/MCParticles#1.collectionID', 'EventHeader', 'EventHeader/EventHeader.eventNumber', 'EventHeader/EventHeader.runNumber', 'EventHeader/EventHeader.timeStamp', 'EventHeader/EventHeader.weight', 'LeakedHits', 'LeakedHits/LeakedHits.cellID', 'LeakedHits/LeakedHits.energy', 'LeakedHits/LeakedHits.position.x', 'LeakedHits/LeakedHits.position.y', 'LeakedHits/LeakedHits.position.z', 'LeakedHits/LeakedHits.contributions_begin', 'LeakedHits/LeakedHits.contributions_end', 'LeakedHits#0', 'LeakedHits#0/LeakedHits#0.index', 'LeakedHits#0/LeakedHits#0.collectionID', 'LeakedHitsContributions', 'LeakedHitsContributions/LeakedHitsContributions.PDG', 'LeakedHitsContributions/LeakedHitsContributions.energy', 'LeakedHitsContributions/LeakedHitsContributions.time', 'LeakedHitsContributions/LeakedHitsContributions.stepPosition.x', 'LeakedHitsContributions/LeakedHitsContributions.stepPosition.y', 'LeakedHitsContributions/LeakedHitsContributions.stepPosition.z', 'LeakedHitsContributions#0', 'LeakedHitsContributions#0/LeakedHitsContributions#0.index', 'LeakedHitsContributions#0/LeakedHitsContributions#0.collectionID', 'HcalEndcapPInsertHits', 'HcalEndcapPInsertHits/HcalEndcapPInsertHits.cellID', 'HcalEndcapPInsertHits/HcalEndcapPInsertHits.energy', 'HcalEndcapPInsertHits/HcalEndcapPInsertHits.position.x', 'HcalEndcapPInsertHits/HcalEndcapPInsertHits.position.y', 'HcalEndcapPInsertHits/HcalEndcapPInsertHits.position.z', 'HcalEndcapPInsertHits/HcalEndcapPInsertHits.contributions_begin', 'HcalEndcapPInsertHits/HcalEndcapPInsertHits.contributions_end', 'HcalEndcapPInsertHits#0', 'HcalEndcapPInsertHits#0/HcalEndcapPInsertHits#0.index', 'HcalEndcapPInsertHits#0/HcalEndcapPInsertHits#0.collectionID', 'HcalEndcapPInsertHitsContributions', 'HcalEndcapPInsertHitsContributions/HcalEndcapPInsertHitsContributions.PDG', 'HcalEndcapPInsertHitsContributions/HcalEndcapPInsertHitsContributions.energy', 'HcalEndcapPInsertHitsContributions/HcalEndcapPInsertHitsContributions.time', 'HcalEndcapPInsertHitsContributions/HcalEndcapPInsertHitsContributions.stepPosition.x', 'HcalEndcapPInsertHitsContributions/HcalEndcapPInsertHitsContributions.stepPosition.y', 'HcalEndcapPInsertHitsContributions/HcalEndcapPInsertHitsContributions.stepPosition.z', 'HcalEndcapPInsertHitsContributions#0', 'HcalEndcapPInsertHitsContributions#0/HcalEndcapPInsertHitsContributions#0.index', 'HcalEndcapPInsertHitsContributions#0/HcalEndcapPInsertHitsContributions#0.collectionID']\n"
     ]
    }
   ],
   "source": [
    "path = '/home/miguel/eic/eic_endcap_insert/'\n",
    "name = '3degree'\n",
    "events = ur.open(path+name+'.root:events')\n",
    "arrays = events.arrays()\n",
    "print(events.keys())\n",
    "\n",
    "eventPath = '/home/miguel/unity/%s.txt'%(name)"
   ]
  },
  {
   "cell_type": "code",
   "execution_count": 4,
   "metadata": {},
   "outputs": [
    {
     "name": "stdout",
     "output_type": "stream",
     "text": [
      "3068576\n",
      "852825\n"
     ]
    },
    {
     "data": {
      "text/plain": [
       "awkward.highlevel.Array"
      ]
     },
     "execution_count": 4,
     "metadata": {},
     "output_type": "execute_result"
    }
   ],
   "source": [
    "print(len(ak.flatten(arrays['HcalEndcapPInsertHitsContributions.time'])))\n",
    "print(len(ak.flatten(arrays['HcalEndcapPInsertHits.position.z'])))\n",
    "\n",
    "type(arrays['HcalEndcapPInsertHitsContributions.time'][:])"
   ]
  },
  {
   "cell_type": "code",
   "execution_count": 5,
   "metadata": {},
   "outputs": [
    {
     "data": {
      "image/png": "[encoded data removed]",
      "text/plain": [
       "<Figure size 576x432 with 1 Axes>"
      ]
     },
     "metadata": {
      "needs_background": "light"
     },
     "output_type": "display_data"
    }
   ],
   "source": [
    "fig = plt.figure( figsize=(8, 6))\n",
    "\n",
    "plt.hist(ak.flatten(arrays['HcalEndcapPInsertHitsContributions.time']),bins=100)\n",
    "\n",
    "plt.show()\n",
    "\n"
   ]
  },
  {
   "cell_type": "code",
   "execution_count": 6,
   "metadata": {},
   "outputs": [],
   "source": [
    "with open(eventPath, 'a') as f:\n",
    "    f.write(\"\")"
   ]
  },
  {
   "cell_type": "code",
   "execution_count": 7,
   "metadata": {},
   "outputs": [],
   "source": [
    "\n",
    "def get_vector(data,varname='EcalBarrelScFiHits'):\n",
    "    time_constant = 1.25\n",
    "    print('getting data of container %s'%(varname))\n",
    "    \n",
    "    E = 1e6*data[\"%s.energy\"%(varname)].array(library='np')\n",
    "    pdgID = 1e6*data[\"%s.energy\"%(varname)].array(library='np') #data[\"%s.truth.pdgID\"%varname].array(library='np')\n",
    "    t = 1e6*data[\"%s.energy\"%(varname)].array(library='np')#time_constant*data[\"%s.truth.time\"%varname].array(library='np')\n",
    "\n",
    "    x = data[\"%s.position.x\"%varname].array(library='np')\n",
    "    y = data[\"%s.position.y\"%varname].array(library='np')\n",
    "    z = data[\"%s.position.z\"%varname].array(library='np')\n",
    "\n",
    "    #theta = events[\"%s.polar.theta\"%varname].array(library='np')\n",
    "    #phi = events[\"%s.polar.phi\"%varname].array(library='np')\n",
    "\n",
    "    print(len(E), ' ', len(x), ' ', len(y), ' ', len(z), ' ' , len(t))\n",
    "    return E,x, y, z, t,pdgID"
   ]
  },
  {
   "cell_type": "code",
   "execution_count": 8,
   "metadata": {},
   "outputs": [],
   "source": [
    "E = {}\n",
    "\n",
    "x = {}\n",
    "y = {}\n",
    "z  = {}\n",
    "t = {}\n",
    "pdgID={}\n"
   ]
  },
  {
   "cell_type": "code",
   "execution_count": 14,
   "metadata": {},
   "outputs": [],
   "source": [
    "hit_containers = ['HcalEndcapPInsertHits','LeakedHits']\n",
    "\n",
    "cluster_containers = []\n",
    "#cluster_containers = ['HcalEndcapPClusters','HcalBarrelClusters','HcalEndcapNClusters',\n",
    "#                     'EcalEndcapNClusters','EcalBarrelScFiClusters','EcalBarrelImagingClusters','EcalEndcapPClusters']"
   ]
  },
  {
   "cell_type": "code",
   "execution_count": 15,
   "metadata": {},
   "outputs": [
    {
     "name": "stdout",
     "output_type": "stream",
     "text": [
      "getting data of container HcalEndcapPInsertHits\n",
      "1000   1000   1000   1000   1000\n",
      "getting data of container LeakedHits\n",
      "1000   1000   1000   1000   1000\n"
     ]
    }
   ],
   "source": [
    "#Hit container\n",
    "for i in hit_containers:#,'TrackerBarrel','VertexBarrel']:\n",
    "    E[i], x[i], y[i],z[i],t[i],pdgID[i] = get_vector(events,\"%s\"%i)\n",
    "#    print(len(E[i]), '' , len(x[i]), ' ', len(y[i]), ' ', len(z[i]), ' ', len(t[i]), ' ' , len(pdgID[i]))\n",
    "\n",
    "\n",
    "    \n",
    "for i in cluster_containers:#,'TrackerBarrel','VertexBarrel']:\n",
    "    E[i], x[i], y[i],z[i],t[i],pdgID[i] = get_vector(rec_events,\"%s\"%i)\n",
    "    #print(len(E[i]), '' , len(x[i]), ' ', len(y[i]), ' ', len(z[i]), ' ', len(t[i]), ' ' , len(pdgID[i]))\n",
    "    \n",
    "\n",
    "#print(len(E['EcalBarrelScFiHits']))\n",
    "#print(len(x['EcalBarrelScFiHits']))\n",
    "#print(len(y['EcalBarrelScFiHits']))\n",
    "#print(len(z['EcalBarrelScFiHits']))\n",
    "#print(len(t['EcalBarrelScFiHits']))"
   ]
  },
  {
   "cell_type": "code",
   "execution_count": 16,
   "metadata": {},
   "outputs": [
    {
     "name": "stdout",
     "output_type": "stream",
     "text": [
      "['HcalEndcapPInsertHits', 'LeakedHits']\n",
      "[]\n",
      "['HcalEndcapPInsertHits', 'LeakedHits']\n"
     ]
    }
   ],
   "source": [
    "print(hit_containers)\n",
    "print(cluster_containers)\n",
    "containers = hit_containers + cluster_containers\n",
    "print(containers)"
   ]
  },
  {
   "cell_type": "code",
   "execution_count": 17,
   "metadata": {},
   "outputs": [
    {
     "name": "stdout",
     "output_type": "stream",
     "text": [
      "nevents= 11\n",
      "0\n",
      "Writing this stuff\n",
      "length :  273\n",
      "length :  431\n",
      "1\n",
      "Writing this stuff\n",
      "length :  796\n",
      "length :  16\n",
      "2\n",
      "Writing this stuff\n",
      "length :  923\n",
      "length :  129\n",
      "3\n",
      "Writing this stuff\n",
      "length :  828\n",
      "length :  52\n",
      "4\n",
      "Writing this stuff\n",
      "length :  1073\n",
      "length :  11\n",
      "5\n",
      "Writing this stuff\n",
      "length :  1090\n",
      "length :  58\n",
      "6\n",
      "Writing this stuff\n",
      "length :  539\n",
      "length :  69\n",
      "7\n",
      "Writing this stuff\n",
      "length :  885\n",
      "length :  90\n",
      "8\n",
      "Writing this stuff\n",
      "length :  906\n",
      "length :  45\n",
      "9\n",
      "Writing this stuff\n",
      "length :  527\n",
      "length :  9\n",
      "10\n",
      "Writing this stuff\n",
      "length :  735\n",
      "length :  6\n"
     ]
    }
   ],
   "source": [
    "nevents = 11\n",
    "print('nevents= %i'%nevents)\n",
    "with open(eventPath, 'w') as f:      \n",
    "\n",
    "    for ievt in range(nevents):\n",
    "        print(ievt)\n",
    "        if(ievt>10):\n",
    "            continue\n",
    "        print('Writing this stuff')\n",
    "        f.write(\"Event \\n\")        \n",
    "        f.write(\"Hits \\n\")  \n",
    "        iterate = 0\n",
    "\n",
    "        #f.write('\\n')\n",
    "    #    f.write(\"Events %i ##########(x,y,z,E,t,pdgID) ####################################\\n\"%ievt)        \n",
    "        for key in hit_containers:\n",
    "            #print(key)\n",
    "            xcoord = x[key][ievt]\n",
    "            ycoord = y[key][ievt]\n",
    "            zcoord = z[key][ievt]\n",
    "            ecoord = E[key][ievt]\n",
    "            tcoord = t[key][ievt]\n",
    "            pdgcoord = pdgID[key][ievt]\n",
    "            #print('length of array: ', len(ecoord))\n",
    "            print('length : ', len(ecoord))\n",
    "            if len(ecoord) > 0:\n",
    "                #f.write(str(key)+'-----------------------------------------------------------------\\n')\n",
    "                for (k, l, m, n, o,p) in zip(xcoord, ycoord, zcoord, ecoord, tcoord, pdgcoord):\n",
    "                    #if (n==0):\n",
    "                    #    n=000\n",
    "                    o = 0.0\n",
    "                    #if(o>30):\n",
    "                    #    continue\n",
    "                    #f.write(\"%2.3f %2.3f %2.3f %2.3f str(o)+\" \"+str(k)+\" \"+str(l)+\" \"+str(m)+\" \"+str(n))\n",
    "                    f.write(str(o)+\" \"+str(k/1000.0)+\" \"+str(l/1000.0)+\" \"+str(m/1000.0)+\" \"+str(n)+\"\\n\")\n",
    "                    #f.write(\"%6.2f %6.2f %6.2f %6.2f %6.2f %6.0i\"%(k,l,m,n,o,p))\n",
    "                    #f.write('\\n')\n",
    "                    #print(str(o)+\" \"+str(k)+\" \"+str(l)+\" \"+str(m)+\" \"+str(n))\n",
    "           \n",
    "        f.write(\"Clusters \\n\")   \n",
    "        for key in cluster_containers:\n",
    "        #for key in ['HcalBarrelClusters','EcalBarrelImagingClusters']:#,'EcalBarrelScFiClusters']:\n",
    "            if 'Hcal' in key:\n",
    "                calotype = 'Hcal'\n",
    "            else:\n",
    "                calotype = 'Ecal'\n",
    "            if 'Endcap' in key:\n",
    "                tipo = 'Endcap'\n",
    "            else: \n",
    "                tipo = 'Barrel'\n",
    "            xcoord = x[key][ievt]\n",
    "            ycoord = y[key][ievt]\n",
    "            zcoord = z[key][ievt]\n",
    "            ecoord = E[key][ievt]\n",
    "            tcoord = t[key][ievt]\n",
    "            #print('length : ', len(ecoord))\n",
    "            if len(ecoord) > 0:\n",
    "                for (k, l, m, n, o,p) in zip(xcoord, ycoord, zcoord, ecoord, tcoord, pdgcoord):\n",
    "                    f.write(calotype + \" \" + tipo + \" \" +str(k/1000.0)+\" \"+str(l/1000.0)+\" \"+str(m/1000.0)+\" \"+str(n)+\"\\n\")"
   ]
  },
  {
   "cell_type": "code",
   "execution_count": null,
   "metadata": {},
   "outputs": [],
   "source": []
  },
  {
   "cell_type": "code",
   "execution_count": null,
   "metadata": {},
   "outputs": [],
   "source": []
  }
 ],
 "metadata": {
  "kernelspec": {
   "display_name": "Python 3",
   "language": "python",
   "name": "python3"
  },
  "language_info": {
   "codemirror_mode": {
    "name": "ipython",
    "version": 3
   },
   "file_extension": ".py",
   "mimetype": "text/x-python",
   "name": "python",
   "nbconvert_exporter": "python",
   "pygments_lexer": "ipython3",
   "version": "3.8.10"
  }
 },
 "nbformat": 4,
 "nbformat_minor": 4
}
